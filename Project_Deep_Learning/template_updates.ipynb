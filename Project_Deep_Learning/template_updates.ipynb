{
 "cells": [
  {
   "cell_type": "code",
   "execution_count": null,
   "metadata": {},
   "outputs": [],
   "source": [
    "from keras.models import Sequential\n",
    "from keras.layers import Dense\n",
    "\n",
    "def custom_nnmodel(fnum, h_layers, neuron, out):\n",
    "    model = Sequential()\n",
    "    \n",
    "    model.add(Dense(output_dim = neuron, init = 'uniform', activation = 'relu', input_dim = fnum))\n",
    "    \n",
    "    for i in range(h_layers - 2):\n",
    "        model.add(Dense(output_dim = neuron, init = 'uniform', activation = 'relu'))\n",
    "        \n",
    "    model.add(Dense(outpuy_dim = 1, init = 'uniform', activation = 'sigmoid'))\n",
    " \n",
    "    model.compile(optimizer = 'adam', loss = 'binary_crossentropy', metrics = ['accuracy'])\n",
    "    \n",
    "    return model"
   ]
  }
 ],
 "metadata": {
  "kernelspec": {
   "display_name": "Python 3",
   "language": "python",
   "name": "python3"
  },
  "language_info": {
   "codemirror_mode": {
    "name": "ipython",
    "version": 3
   },
   "file_extension": ".py",
   "mimetype": "text/x-python",
   "name": "python",
   "nbconvert_exporter": "python",
   "pygments_lexer": "ipython3",
   "version": "3.7.3"
  }
 },
 "nbformat": 4,
 "nbformat_minor": 2
}
