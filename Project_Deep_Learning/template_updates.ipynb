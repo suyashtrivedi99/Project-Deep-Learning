{
 "cells": [
  {
   "cell_type": "code",
   "execution_count": null,
   "metadata": {},
   "outputs": [],
   "source": [
    "from keras.models import Sequential                   #For initialising NN  \n",
    "from keras.layers import Dense                        #For adding layers in NN\n",
    "\n",
    "def custom_nnmodel(fnum, h_layers, neuron, out):      #no. of features, hidden layers, no. of neurons in each hidden layer, and no. of neurons in output layer\n",
    "    model = Sequential()  #initialise NN model\n",
    "    \n",
    "    model.add(Dense(output_dim = neuron, init = 'uniform', activation = 'relu', input_dim = fnum))  #adding first hidden layer\n",
    "    \n",
    "    for i in range(h_layers - 2):\n",
    "        model.add(Dense(output_dim = neuron, init = 'uniform', activation = 'relu')) #Adding other h - 2 hidden layers\n",
    "        \n",
    "    model.add(Dense(outpuy_dim = out, init = 'uniform', activation = 'sigmoid'))     #Adding output layer\n",
    " \n",
    "    model.compile(optimizer = 'adam', loss = 'binary_crossentropy', metrics = ['accuracy']) #defining loss and optimising functions, and metrics to be used\n",
    "    \n",
    "    return model"
   ]
  }
 ],
 "metadata": {
  "kernelspec": {
   "display_name": "Python 3",
   "language": "python",
   "name": "python3"
  },
  "language_info": {
   "codemirror_mode": {
    "name": "ipython",
    "version": 3
   },
   "file_extension": ".py",
   "mimetype": "text/x-python",
   "name": "python",
   "nbconvert_exporter": "python",
   "pygments_lexer": "ipython3",
   "version": "3.7.3"
  }
 },
 "nbformat": 4,
 "nbformat_minor": 2
}
